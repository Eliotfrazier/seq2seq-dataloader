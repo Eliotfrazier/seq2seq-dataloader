{
 "cells": [
  {
   "cell_type": "code",
   "execution_count": 1,
   "metadata": {
    "collapsed": true
   },
   "outputs": [],
   "source": [
    "import json\n",
    "from data_loader import get_loader"
   ]
  },
  {
   "cell_type": "code",
   "execution_count": 2,
   "metadata": {
    "collapsed": true
   },
   "outputs": [],
   "source": [
    "# load word2id dictionaries\n",
    "with open('./data/src_word2id.json', 'r') as f:\n",
    "    src_word2id = json.load(f)\n",
    "with open('./data/trg_word2id.json', 'r') as f:\n",
    "    trg_word2id = json.load(f)"
   ]
  },
  {
   "cell_type": "code",
   "execution_count": 3,
   "metadata": {},
   "outputs": [],
   "source": [
    "data_loader = get_loader(src_path='./data/src_train.txt',\n",
    "                         trg_path='./data/trg_train.txt',\n",
    "                         src_word2id=src_word2id,\n",
    "                         trg_word2id=trg_word2id)\n",
    "\n",
    "data_iter = iter(data_loader)\n",
    "src_seqs, src_lengths, trg_seqs, trg_lengths = next(data_iter)"
   ]
  },
  {
   "cell_type": "code",
   "execution_count": 4,
   "metadata": {},
   "outputs": [
    {
     "name": "stdout",
     "output_type": "stream",
     "text": [
      "\n",
      "    1   118   119  ...   1906    38     2\n",
      "    1    36   977  ...      0     0     0\n",
      "    1    80     4  ...      0     0     0\n",
      "       ...          ⋱          ...       \n",
      "    1   286    11  ...      0     0     0\n",
      "    1    11   495  ...      0     0     0\n",
      "    1   115  4510  ...      0     0     0\n",
      "[torch.LongTensor of size 100x42]\n",
      "\n"
     ]
    }
   ],
   "source": [
    "# src_seqs is a tensor of shape (batch_size, seq_length)\n",
    "# seq_length is the maximum length of sequences in mini-batch data\n",
    "print(src_seqs)"
   ]
  },
  {
   "cell_type": "code",
   "execution_count": 5,
   "metadata": {},
   "outputs": [
    {
     "name": "stdout",
     "output_type": "stream",
     "text": [
      "[42, 39, 38, 37, 36, 35, 34, 33, 32, 32, 31, 31, 31, 29, 28, 27, 27, 27, 27, 27, 27, 26, 26, 25, 24, 24, 24, 24, 24, 24, 24, 24, 24, 24, 23, 23, 23, 23, 23, 22, 22, 22, 22, 21, 21, 20, 20, 20, 20, 20, 20, 20, 20, 19, 19, 19, 19, 19, 19, 18, 18, 18, 18, 18, 17, 17, 17, 16, 16, 16, 16, 16, 16, 15, 15, 14, 14, 14, 14, 14, 13, 13, 13, 13, 12, 11, 11, 11, 11, 11, 10, 10, 10, 10, 9, 8, 8, 8, 7, 5]\n"
     ]
    }
   ],
   "source": [
    "# for using pack_padded_sequence\n",
    "print (src_lengths)"
   ]
  },
  {
   "cell_type": "code",
   "execution_count": 6,
   "metadata": {},
   "outputs": [
    {
     "name": "stdout",
     "output_type": "stream",
     "text": [
      "\n",
      "    1    98    99  ...      0     0     0\n",
      "    1    20   922  ...      0     0     0\n",
      "    1     4   274  ...      0     0     0\n",
      "       ...          ⋱          ...       \n",
      "    1    49  3478  ...      0     0     0\n",
      "    1    50   831  ...      0     0     0\n",
      "    1    95  4498  ...      0     0     0\n",
      "[torch.LongTensor of size 100x45]\n",
      "\n"
     ]
    }
   ],
   "source": [
    "print (trg_seqs)"
   ]
  }
 ],
 "metadata": {
  "kernelspec": {
   "display_name": "Python 3",
   "language": "python",
   "name": "python3"
  },
  "language_info": {
   "codemirror_mode": {
    "name": "ipython",
    "version": 3
   },
   "file_extension": ".py",
   "mimetype": "text/x-python",
   "name": "python",
   "nbconvert_exporter": "python",
   "pygments_lexer": "ipython3",
   "version": "3.6.1"
  }
 },
 "nbformat": 4,
 "nbformat_minor": 2
}
